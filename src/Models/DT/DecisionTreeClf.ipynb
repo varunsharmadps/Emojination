{
 "cells": [
  {
   "cell_type": "code",
   "execution_count": 2,
   "metadata": {
    "collapsed": true
   },
   "outputs": [],
   "source": [
    "import numpy as np\n",
    "from collections import defaultdict\n",
    "from sklearn.feature_extraction.text import CountVectorizer, TfidfVectorizer\n",
    "from sklearn.decomposition import TruncatedSVD\n",
    "from sklearn.linear_model import LogisticRegression\n",
    "import matplotlib.pyplot as plt\n",
    "from sklearn.model_selection import train_test_split\n",
    "from sklearn.metrics import precision_score, recall_score\n",
    "from sklearn.tree import DecisionTreeClassifier\n",
    "from gensim.models.keyedvectors import KeyedVectors\n",
    "import re"
   ]
  },
  {
   "cell_type": "code",
   "execution_count": 3,
   "metadata": {
    "collapsed": true
   },
   "outputs": [],
   "source": [
    "vectorizer = CountVectorizer()\n",
    "tfidf_vectorizer = TfidfVectorizer()\n",
    "svd = TruncatedSVD(n_components=400)\n",
    "embeddings = KeyedVectors.load_word2vec_format('../model_swm_300-6-10-low.w2v', binary=False)\n",
    "regex = \"([@][A-Za-z0-9]+)|([^0-9A-Za-z# \\t])|(\\w+:\\/\\/\\S+)|(#[^A-Za-z0-9]+)\"\n",
    "tweets = []\n",
    "labels = []"
   ]
  },
  {
   "cell_type": "code",
   "execution_count": 4,
   "metadata": {
    "collapsed": true
   },
   "outputs": [],
   "source": [
    "with open('../../../data/train_semeval2018task2/tweets_us.text', 'r') as file:\n",
    "    for tweet in file:\n",
    "        reg_tweet = ' '.join(re.sub(regex, \" \", tweet).split())\n",
    "        low_tweet = reg_tweet.lower()\n",
    "        tweets.append(low_tweet)\n",
    "with open('../../../data/train_semeval2018task2/tweets_us.labels', 'r') as file:\n",
    "    for label in file:\n",
    "        tweet_label = int(label)\n",
    "        labels.append(tweet_label)"
   ]
  },
  {
   "cell_type": "code",
   "execution_count": 5,
   "metadata": {
    "collapsed": true
   },
   "outputs": [],
   "source": [
    "tweets_total = []\n",
    "\n",
    "word_vectors = embeddings.wv\n",
    "# del embeddings\n",
    "for tweet in tweets:\n",
    "    tokens = tweet.split()\n",
    "    length = len(tokens)\n",
    "    total = np.zeros(300)\n",
    "    for word in tokens:\n",
    "        if word not in word_vectors:\n",
    "            continue\n",
    "        total += word_vectors[word]\n",
    "    total /= float(length+1)\n",
    "    tweets_total.append(total)\n",
    "X = np.asarray(tweets_total)"
   ]
  },
  {
   "cell_type": "code",
   "execution_count": 6,
   "metadata": {},
   "outputs": [
    {
     "name": "stdout",
     "output_type": "stream",
     "text": [
      "(488553, 300)\n"
     ]
    }
   ],
   "source": [
    "print X.shape"
   ]
  },
  {
   "cell_type": "code",
   "execution_count": 7,
   "metadata": {
    "collapsed": true
   },
   "outputs": [],
   "source": [
    "def get_map_from_file(path):\n",
    "    map_path = path\n",
    "    input_map = defaultdict(list)\n",
    "    with open(map_path, 'rb') as f:\n",
    "        lines = f.read().splitlines()\n",
    "        for l in lines[1:]:\n",
    "            splits = l.decode('utf-8').split('\\t')\n",
    "            input_map[splits[0]] = [float(num) for num in splits[1:]]\n",
    "    return input_map"
   ]
  },
  {
   "cell_type": "code",
   "execution_count": 8,
   "metadata": {
    "collapsed": true
   },
   "outputs": [],
   "source": [
    "def get_values_from_map(input_map, tweets):\n",
    "    avg_senti_per_tweet = []\n",
    "    keys = input_map.keys()\n",
    "    for tweet in tweets:\n",
    "        words = tweet.split()\n",
    "        avg_tweet_senti = np.zeros(10)\n",
    "        for word in words:\n",
    "            if input_map[word] != []:\n",
    "                vec = np.asarray(input_map[word])\n",
    "                avg_tweet_senti += vec\n",
    "            else:\n",
    "                avg_tweet_senti += np.zeros(10)\n",
    "        if len(tweet) != 0:\n",
    "            avg_tweet_senti /= float(len(tweet))\n",
    "        avg_senti_per_tweet.append(avg_tweet_senti)\n",
    "    return np.asarray(avg_senti_per_tweet)"
   ]
  },
  {
   "cell_type": "code",
   "execution_count": 9,
   "metadata": {
    "collapsed": true
   },
   "outputs": [],
   "source": [
    "input_map = get_map_from_file(\"../../../data/NRC-emotion-lexicon-wordlevel-v0.92_new.txt\")\n",
    "X_emotion = get_values_from_map(input_map, tweets)"
   ]
  },
  {
   "cell_type": "code",
   "execution_count": 10,
   "metadata": {
    "collapsed": true
   },
   "outputs": [],
   "source": [
    "input_map = get_map_from_file(\"../../../data/NRC-Hashtag-Emotion-Lexicon-v0.2_new_new.txt\")\n",
    "X_hash = get_values_from_map(input_map, tweets)"
   ]
  },
  {
   "cell_type": "code",
   "execution_count": 11,
   "metadata": {
    "collapsed": true
   },
   "outputs": [],
   "source": [
    "X_temp1 = np.concatenate([X_emotion, X_hash], axis=1)"
   ]
  },
  {
   "cell_type": "code",
   "execution_count": 12,
   "metadata": {
    "collapsed": true
   },
   "outputs": [],
   "source": [
    "# X = vectorizer.fit_transform(tweets)\n",
    "y = np.asarray(labels)"
   ]
  },
  {
   "cell_type": "code",
   "execution_count": 13,
   "metadata": {
    "collapsed": true
   },
   "outputs": [],
   "source": [
    "X_tfidf = tfidf_vectorizer.fit_transform(tweets)"
   ]
  },
  {
   "cell_type": "code",
   "execution_count": 14,
   "metadata": {
    "collapsed": true
   },
   "outputs": [],
   "source": [
    "X_lsa = svd.fit_transform(X_tfidf)"
   ]
  },
  {
   "cell_type": "code",
   "execution_count": 15,
   "metadata": {
    "collapsed": true
   },
   "outputs": [],
   "source": [
    "X_final = np.concatenate([X_lsa, X, X_temp1], axis=1)"
   ]
  },
  {
   "cell_type": "code",
   "execution_count": 16,
   "metadata": {},
   "outputs": [],
   "source": [
    "# print X_tfidf.shape\n",
    "# print X_lsa.shape\n",
    "# print X_final.shape\n",
    "# print svd.explained_variance_ratio_\n",
    "# plt.plot(np.cumsum(svd.explained_variance_ratio_))\n",
    "# plt.xlabel('number of components')\n",
    "# plt.ylabel('cumulative explained variance');\n",
    "# plt.show()"
   ]
  },
  {
   "cell_type": "code",
   "execution_count": null,
   "metadata": {
    "collapsed": true
   },
   "outputs": [],
   "source": [
    "X_train, X_test, y_train, y_test = train_test_split(X_final, y, test_size=.20)"
   ]
  },
  {
   "cell_type": "code",
   "execution_count": null,
   "metadata": {},
   "outputs": [],
   "source": [
    "model = DecisionTreeClassifier() # use default parameters\n",
    "model.fit(X_train, y_train)"
   ]
  },
  {
   "cell_type": "code",
   "execution_count": null,
   "metadata": {},
   "outputs": [],
   "source": [
    "model.score(X_test, y_test)"
   ]
  },
  {
   "cell_type": "code",
   "execution_count": null,
   "metadata": {
    "collapsed": true
   },
   "outputs": [],
   "source": [
    "def F_1(P, R):\n",
    "    return (2*P*R/(P+R))"
   ]
  },
  {
   "cell_type": "code",
   "execution_count": null,
   "metadata": {},
   "outputs": [],
   "source": [
    "val_1 = 50\n",
    "val_2 = 100\n",
    "val_3 = 150\n",
    "val_4 = 20000\n",
    "\n",
    "sample_1 = X_test[:val_1]\n",
    "sample_2 = X_test[:val_2]\n",
    "sample_3 = X_test[:val_3]\n",
    "sample_4 = X_test[:val_4]\n",
    "\n",
    "y_1 = y_test[:val_1]\n",
    "y_2 = y_test[:val_2]\n",
    "y_3 = y_test[:val_3]\n",
    "y_4 = y_test[:val_4]\n",
    "\n",
    "C1 = model.predict(sample_1)\n",
    "C2 = model.predict(sample_2)\n",
    "C3 = model.predict(sample_3)\n",
    "C4 = model.predict(sample_4)\n",
    "\n",
    "P1 = precision_score(y_1, C1, average='macro')\n",
    "P2 = precision_score(y_2, C2, average='macro')\n",
    "P3 = precision_score(y_3, C3, average='macro')\n",
    "P4 = precision_score(y_4, C4, average='macro')\n",
    "\n",
    "R1 = recall_score(y_1, C1, average='macro')\n",
    "R2 = recall_score(y_2, C2, average='macro')\n",
    "R3 = recall_score(y_3, C3, average='macro')\n",
    "R4 = recall_score(y_4, C4, average='macro')\n",
    "\n",
    "print 'Precision'\n",
    "print P1\n",
    "print P2\n",
    "print P3\n",
    "print P4\n",
    "print \n",
    "print 'Recall'\n",
    "print R1\n",
    "print R2\n",
    "print R3\n",
    "print R4\n",
    "print\n",
    "print 'F1'\n",
    "print F_1(P1,R1)\n",
    "print F_1(P2,R2)\n",
    "print F_1(P3,R3)\n",
    "print F_1(P4,R4)"
   ]
  }
 ],
 "metadata": {
  "kernelspec": {
   "display_name": "Python 2",
   "language": "python",
   "name": "python2"
  },
  "language_info": {
   "codemirror_mode": {
    "name": "ipython",
    "version": 2
   },
   "file_extension": ".py",
   "mimetype": "text/x-python",
   "name": "python",
   "nbconvert_exporter": "python",
   "pygments_lexer": "ipython2",
   "version": "2.7.14"
  }
 },
 "nbformat": 4,
 "nbformat_minor": 2
}
