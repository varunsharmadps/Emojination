{
 "cells": [
  {
   "cell_type": "code",
   "execution_count": 54,
   "metadata": {},
   "outputs": [],
   "source": [
    "import numpy as np\n",
    "from collections import defaultdict\n",
    "from sklearn.feature_extraction.text import CountVectorizer, TfidfVectorizer\n",
    "import re"
   ]
  },
  {
   "cell_type": "code",
   "execution_count": 55,
   "metadata": {
    "collapsed": true
   },
   "outputs": [],
   "source": [
    "vectorizer = CountVectorizer()\n",
    "tfidf_vectorizer = TfidfVectorizer()\n",
    "regex = \"([@][A-Za-z0-9]+)|([^0-9A-Za-z \\t])|(\\w+:\\/\\/\\S+)\"\n",
    "tweets = []\n",
    "labels = []"
   ]
  },
  {
   "cell_type": "code",
   "execution_count": 57,
   "metadata": {},
   "outputs": [],
   "source": [
    "with open('../../../data/trial_semeval2018task2/us_trial.text', 'r') as file:\n",
    "    for tweet in file:\n",
    "        reg_tweet = ' '.join(re.sub(regex, \" \", tweet).split())\n",
    "        low_tweet = reg_tweet.lower()\n",
    "        tweets.append(low_tweet)\n",
    "with open('../../../data/trial_semeval2018task2/us_trial.labels', 'r') as file:\n",
    "    for label in file:\n",
    "        tweet_label = int(label)\n",
    "        labels.append(tweet_label)"
   ]
  },
  {
   "cell_type": "code",
   "execution_count": 59,
   "metadata": {},
   "outputs": [],
   "source": [
    "# X = vectorizer.fit_transform(tweets)\n",
    "y = np.asarray(labels)"
   ]
  },
  {
   "cell_type": "code",
   "execution_count": 68,
   "metadata": {},
   "outputs": [],
   "source": [
    "X_tfidf = tfidf_vectorizer.fit_transform(tweets)"
   ]
  },
  {
   "cell_type": "code",
   "execution_count": 49,
   "metadata": {},
   "outputs": [],
   "source": [
    "from sklearn.model_selection import train_test_split"
   ]
  },
  {
   "cell_type": "code",
   "execution_count": 63,
   "metadata": {
    "collapsed": true
   },
   "outputs": [],
   "source": [
    "X_train, X_test, y_train, y_test = train_test_split(X_tfidf, y, test_size=.20)"
   ]
  },
  {
   "cell_type": "code",
   "execution_count": 64,
   "metadata": {},
   "outputs": [],
   "source": [
    "from sklearn.linear_model import LogisticRegression"
   ]
  },
  {
   "cell_type": "code",
   "execution_count": 65,
   "metadata": {},
   "outputs": [
    {
     "data": {
      "text/plain": [
       "LogisticRegression(C=1.0, class_weight=None, dual=False, fit_intercept=True,\n",
       "          intercept_scaling=1, max_iter=100, multi_class='ovr', n_jobs=1,\n",
       "          penalty='l2', random_state=None, solver='liblinear', tol=0.0001,\n",
       "          verbose=0, warm_start=False)"
      ]
     },
     "execution_count": 65,
     "metadata": {},
     "output_type": "execute_result"
    }
   ],
   "source": [
    "model = LogisticRegression() # use default parameters\n",
    "model.fit(X_train, y_train)"
   ]
  },
  {
   "cell_type": "code",
   "execution_count": 66,
   "metadata": {},
   "outputs": [
    {
     "data": {
      "text/plain": [
       "0.30409999999999998"
      ]
     },
     "execution_count": 66,
     "metadata": {},
     "output_type": "execute_result"
    }
   ],
   "source": [
    "model.score(X_test, y_test)"
   ]
  },
  {
   "cell_type": "code",
   "execution_count": 80,
   "metadata": {
    "collapsed": true
   },
   "outputs": [],
   "source": [
    "from sklearn.metrics import precision_score, recall_score"
   ]
  },
  {
   "cell_type": "code",
   "execution_count": 94,
   "metadata": {
    "collapsed": true
   },
   "outputs": [],
   "source": [
    "def F_1(P, R):\n",
    "    return (2*P*R/(P+R))"
   ]
  },
  {
   "cell_type": "code",
   "execution_count": 95,
   "metadata": {},
   "outputs": [
    {
     "name": "stdout",
     "output_type": "stream",
     "text": [
      "Precision\n",
      "0.0798611111111\n",
      "0.284042525101\n",
      "0.229609168188\n",
      "0.204465925489\n",
      "\n",
      "Recall\n",
      "0.0925925925926\n",
      "0.161286549708\n",
      "0.175309777941\n",
      "0.156999791145\n",
      "\n",
      "F1\n",
      "0.0857568978374\n",
      "0.205745555075\n",
      "0.198818715069\n",
      "0.177616333283\n"
     ]
    }
   ],
   "source": [
    "val_1 = 50\n",
    "val_2 = 100\n",
    "val_3 = 150\n",
    "val_4 = 200\n",
    "\n",
    "sample_1 = X_test[:val_1]\n",
    "sample_2 = X_test[:val_2]\n",
    "sample_3 = X_test[:val_3]\n",
    "sample_4 = X_test[:val_4]\n",
    "\n",
    "y_1 = y_test[:val_1]\n",
    "y_2 = y_test[:val_2]\n",
    "y_3 = y_test[:val_3]\n",
    "y_4 = y_test[:val_4]\n",
    "\n",
    "C1 = model.predict(sample_1)\n",
    "C2 = model.predict(sample_2)\n",
    "C3 = model.predict(sample_3)\n",
    "C4 = model.predict(sample_4)\n",
    "\n",
    "P1 = precision_score(y_1, C1, average='macro')\n",
    "P2 = precision_score(y_2, C2, average='macro')\n",
    "P3 = precision_score(y_3, C3, average='macro')\n",
    "P4 = precision_score(y_4, C4, average='macro')\n",
    "\n",
    "R1 = recall_score(y_1, C1, average='macro')\n",
    "R2 = recall_score(y_2, C2, average='macro')\n",
    "R3 = recall_score(y_3, C3, average='macro')\n",
    "R4 = recall_score(y_4, C4, average='macro')\n",
    "\n",
    "print 'Precision'\n",
    "print P1\n",
    "print P2\n",
    "print P3\n",
    "print P4\n",
    "print \n",
    "print 'Recall'\n",
    "print R1\n",
    "print R2\n",
    "print R3\n",
    "print R4\n",
    "print\n",
    "print 'F1'\n",
    "print F_1(P1,R1)\n",
    "print F_1(P2,R2)\n",
    "print F_1(P3,R3)\n",
    "print F_1(P4,R4)"
   ]
  }
 ],
 "metadata": {
  "kernelspec": {
   "display_name": "Python 2",
   "language": "python",
   "name": "python2"
  },
  "language_info": {
   "codemirror_mode": {
    "name": "ipython",
    "version": 2
   },
   "file_extension": ".py",
   "mimetype": "text/x-python",
   "name": "python",
   "nbconvert_exporter": "python",
   "pygments_lexer": "ipython2",
   "version": "2.7.14"
  }
 },
 "nbformat": 4,
 "nbformat_minor": 2
}
