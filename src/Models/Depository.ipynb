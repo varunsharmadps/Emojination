{
 "cells": [
  {
   "cell_type": "code",
   "execution_count": 11,
   "metadata": {},
   "outputs": [],
   "source": [
    "from gensim.models.keyedvectors import KeyedVectors\n",
    "#loading the model can take a minute or so"
   ]
  },
  {
   "cell_type": "code",
   "execution_count": 12,
   "metadata": {},
   "outputs": [
    {
     "name": "stdout",
     "output_type": "stream",
     "text": [
      "👌  -  0.823072433472\n",
      "😀  -  0.819727540016\n",
      "😃  -  0.795285463333\n",
      "👏  -  0.778035163879\n",
      "😄  -  0.774436175823\n",
      "👍🏻  -  0.749342739582\n",
      "🙌  -  0.741743505001\n",
      "👍🏼  -  0.699494302273\n",
      "😆  -  0.69704914093\n",
      "👊  -  0.664022386074\n"
     ]
    }
   ],
   "source": [
    "model = KeyedVectors.load_word2vec_format('model_swm_300-6-10-low.w2v', binary=False)\n",
    "c = \"👍\"\n",
    "nn = model.most_similar(positive=[c.decode('utf-8')])\n",
    "for e,s in nn:\n",
    "  print e + \"  -  \" + str(s) "
   ]
  },
  {
   "cell_type": "code",
   "execution_count": 13,
   "metadata": {
    "collapsed": true
   },
   "outputs": [],
   "source": [
    "word_vectors = model.wv"
   ]
  },
  {
   "cell_type": "code",
   "execution_count": null,
   "metadata": {},
   "outputs": [],
   "source": []
  }
 ],
 "metadata": {
  "kernelspec": {
   "display_name": "Python 2",
   "language": "python",
   "name": "python2"
  },
  "language_info": {
   "codemirror_mode": {
    "name": "ipython",
    "version": 2
   },
   "file_extension": ".py",
   "mimetype": "text/x-python",
   "name": "python",
   "nbconvert_exporter": "python",
   "pygments_lexer": "ipython2",
   "version": "2.7.14"
  }
 },
 "nbformat": 4,
 "nbformat_minor": 2
}
